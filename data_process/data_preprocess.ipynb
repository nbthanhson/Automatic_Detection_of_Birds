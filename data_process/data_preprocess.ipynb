{
  "cells": [
    {
      "cell_type": "code",
      "execution_count": null,
      "metadata": {
        "id": "ADbJAezIl7or"
      },
      "outputs": [],
      "source": [
        "# Install the Kaggle API client\n",
        "!pip install -q kaggle"
      ]
    },
    {
      "cell_type": "code",
      "execution_count": null,
      "metadata": {
        "id": "Gjn6UPaCmJKv"
      },
      "outputs": [],
      "source": [
        "!mkdir -p ~/.kaggle\n",
        "!cp kaggle.json ~/.kaggle/\n",
        "!chmod 600 ~/.kaggle/kaggle.json"
      ]
    },
    {
      "cell_type": "code",
      "execution_count": null,
      "metadata": {
        "colab": {
          "base_uri": "https://localhost:8080/"
        },
        "id": "xaNaB_9amLEg",
        "outputId": "d499b6e1-8880-4a27-cd0d-ebd1f13f4143"
      },
      "outputs": [],
      "source": [
        "!kaggle datasets download -d aubird/au-bird-scene-photo-collection"
      ]
    },
    {
      "cell_type": "code",
      "execution_count": null,
      "metadata": {
        "colab": {
          "base_uri": "https://localhost:8080/"
        },
        "id": "C3cxHx45mM_B",
        "outputId": "bc838096-4243-44c5-b978-5b3d94b1f60f"
      },
      "outputs": [],
      "source": [
        "!unzip au-bird-scene-photo-collection.zip"
      ]
    },
    {
      "cell_type": "code",
      "execution_count": null,
      "metadata": {
        "id": "1uzp_pWNEGLb"
      },
      "outputs": [],
      "source": [
        "import os\n",
        "import shutil\n",
        "import random\n",
        "\n",
        "from xml.etree import ElementTree"
      ]
    },
    {
      "cell_type": "code",
      "execution_count": null,
      "metadata": {
        "id": "CrC2W12_mPK4"
      },
      "outputs": [],
      "source": [
        "# Parser the data from kaggle\n",
        "\n",
        "def get_data(filepath):\n",
        "    all_imgs = {}\n",
        "    classes_count = {}\n",
        "    class_mapping = {}\n",
        "\n",
        "    visualise = True\n",
        "    i = 1\n",
        "\n",
        "    for files in os.listdir(filepath):\n",
        "        if files[-3:] == 'xml':\n",
        "            filename = os.path.join(filepath, files)\n",
        "            tree = ElementTree.parse(filename)\n",
        "            root = tree.getroot()\n",
        "\n",
        "            width = int(root.find('.//size/width').text)\n",
        "            height = int(root.find('.//size/height').text)\n",
        "\n",
        "            all_imgs[filename] = {}\n",
        "            \n",
        "            all_imgs[filename]['filename'] = files[:-3] + 'jpg'\n",
        "            all_imgs[filename]['width'] = width\n",
        "            all_imgs[filename]['height'] = height\n",
        "            all_imgs[filename]['bboxes'] = []\n",
        "\n",
        "            for box in root.findall('.//object'):\n",
        "                class_name = box.find('name').text\n",
        "                x1 = int(box.find('.//bndbox/xmin').text)\n",
        "                y1 = int(box.find('.//bndbox/ymin').text)\n",
        "                x2 = int(box.find('.//bndbox/xmax').text)\n",
        "                y2 = int(box.find('.//bndbox/ymax').text)\n",
        "\n",
        "                all_imgs[filename]['bboxes'].append({'class': class_name, 'x1': x1, 'y1': y1, 'x2': x2, 'y2': y2})\n",
        "\n",
        "                if class_name not in classes_count:\n",
        "                    classes_count[class_name] = 1\n",
        "                else:\n",
        "                    classes_count[class_name] += 1\n",
        "\n",
        "                if class_name not in class_mapping:\n",
        "                    class_mapping[class_name] = len(class_mapping)\n",
        "\n",
        "    all_data = []\n",
        "\n",
        "    for key in all_imgs:\n",
        "        all_data.append(all_imgs[key])\n",
        "\n",
        "    return all_data, classes_count, class_mapping"
      ]
    },
    {
      "cell_type": "code",
      "execution_count": null,
      "metadata": {
        "id": "YCvWIOpOFGy4"
      },
      "outputs": [],
      "source": [
        "def process_data(filepath, image_folder, label_folder):\n",
        "    all_imgs, classes_count, class_mapping = get_data(filepath)\n",
        "\n",
        "    for img in all_imgs:\n",
        "        # Create image folder\n",
        "        shutil.copy(os.path.join(filepath, img['filename']), os.path.join(image_folder, img['filename']))\n",
        "\n",
        "        # Create label folder\n",
        "        labels = []\n",
        "\n",
        "        for bbox in img['bboxes']:\n",
        "            x = (bbox['x2'] + bbox['x1']) / 2\n",
        "            y = (bbox['y2'] + bbox['y1']) / 2\n",
        "            w = bbox['x2'] - bbox['x1']\n",
        "            h = bbox['y2'] - bbox['y1']\n",
        "\n",
        "            x_normalized = x / img['width']\n",
        "            y_normalized = y / img['height']\n",
        "            w_normalized = w / img['width']\n",
        "            h_normalized = h / img['height']\n",
        "\n",
        "            labels.append({'x': x_normalized, 'y': y_normalized, 'w': w_normalized, 'h': h_normalized})\n",
        "\n",
        "        txt_file = img['filename'][:-3] + 'txt'\n",
        "        with open(os.path.join(label_folder, txt_file), 'w') as f:\n",
        "            for label in labels:\n",
        "                f.write('{} {} {} {} {}\\n'.format(0, label['x'], label['y'], label['w'], label['h']))"
      ]
    },
    {
      "cell_type": "code",
      "execution_count": null,
      "metadata": {
        "id": "07pVuEx1TYWH"
      },
      "outputs": [],
      "source": [
        "train_filepath = '/content/AUbirds/train'\n",
        "val_filepath = '/content/AUbirds/test'\n",
        "\n",
        "train_image_folder = '/content/birds_data/images/train'\n",
        "val_image_folder = '/content/birds_data/images/val'\n",
        "\n",
        "train_label_folder = '/content/birds_data/labels/train'\n",
        "val_label_folder = '/content/birds_data/labels/val'\n",
        "\n",
        "process_data(train_filepath, train_image_folder, train_label_folder)\n",
        "process_data(val_filepath, val_image_folder, val_label_folder)"
      ]
    }
  ],
  "metadata": {
    "colab": {
      "collapsed_sections": [],
      "name": "Preprocess.ipynb",
      "provenance": []
    },
    "kernelspec": {
      "display_name": "Python 3",
      "name": "python3"
    },
    "language_info": {
      "name": "python"
    }
  },
  "nbformat": 4,
  "nbformat_minor": 0
}
