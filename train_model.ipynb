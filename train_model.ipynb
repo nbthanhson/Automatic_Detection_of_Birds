{
  "cells": [
    {
      "cell_type": "code",
      "execution_count": null,
      "metadata": {
        "colab": {
          "base_uri": "https://localhost:8080/"
        },
        "id": "kiOJ1FHtjs2z",
        "outputId": "e3617f72-c1f6-4947-ed0e-46a8f9fc4f1a"
      },
      "outputs": [],
      "source": [
        "%cd /content\n",
        "!git clone https://github.com/ultralytics/yolov5.git"
      ]
    },
    {
      "cell_type": "code",
      "execution_count": null,
      "metadata": {
        "id": "hRNZTks0j8Fg"
      },
      "outputs": [],
      "source": [
        "!rm -f /content/yolov5/models/data.yaml\n",
        "!echo \"train: /content/birds_data_part3/images/train\" >> /content/yolov5/models/data.yaml\n",
        "!echo \"val: /content/birds_data_part3/images/val\" >> /content/yolov5/models/data.yaml\n",
        "!echo \"nc: 7\" >> /content/yolov5/models/data.yaml\n",
        "!echo \"names: ['bird', 'eagle', 'flamingo', 'golden oriole', 'hyacinth macaw', 'mute swan', 'seagull']\" >> /content/yolov5/models/data.yaml"
      ]
    },
    {
      "cell_type": "code",
      "execution_count": null,
      "metadata": {
        "colab": {
          "base_uri": "https://localhost:8080/"
        },
        "id": "NhsunxPLkGGm",
        "outputId": "13431256-165a-49a2-c251-ad58c0553d29"
      },
      "outputs": [],
      "source": [
        "!cp -av '/content/birds_data_part3/images' '/content/yolov5/data'\n",
        "!cp -av '/content/birds_data_part3/labels' '/content/yolov5/data'"
      ]
    },
    {
      "cell_type": "code",
      "execution_count": null,
      "metadata": {
        "colab": {
          "base_uri": "https://localhost:8080/"
        },
        "id": "ODL6NE4LkJQG",
        "outputId": "61b099ee-b8a7-423d-eef3-e05e478794dc"
      },
      "outputs": [],
      "source": [
        "%cd /content/yolov5\n",
        "!pip install -r requirements.txt"
      ]
    },
    {
      "cell_type": "code",
      "execution_count": null,
      "metadata": {
        "colab": {
          "base_uri": "https://localhost:8080/"
        },
        "id": "pk-JPW0Ix4C2",
        "outputId": "0e388de7-b8f9-43e2-e1e2-fc2d21eaf88e"
      },
      "outputs": [],
      "source": [
        "!cp -av '/content/gdrive/MyDrive/Automated-Bird-Counting/weight3/best.pt' '/content/yolov5'"
      ]
    },
    {
      "cell_type": "code",
      "execution_count": null,
      "metadata": {
        "colab": {
          "base_uri": "https://localhost:8080/"
        },
        "id": "vmHDWRUJkM7-",
        "outputId": "5169caea-faee-4859-fca2-70dca2c0cb87"
      },
      "outputs": [],
      "source": [
        "%cd /content/yolov5\n",
        "!python train.py --img 640 --batch 16 --epochs 5 --data models/data.yaml --weights best.pt"
      ]
    },
    {
      "cell_type": "code",
      "execution_count": null,
      "metadata": {
        "colab": {
          "base_uri": "https://localhost:8080/"
        },
        "id": "RqAvWauwryph",
        "outputId": "e7ed69fc-2dad-4363-e43c-e0baa6be63af"
      },
      "outputs": [],
      "source": [
        "%cd /content/yolov5\n",
        "from IPython.display import Image, clear_output\n",
        "!python detect.py --weights runs/train/exp/weights/best.pt --img 640 --conf 0.5 --source 1.jpg"
      ]
    }
  ],
  "metadata": {
    "accelerator": "GPU",
    "colab": {
      "collapsed_sections": [],
      "name": "Automated-Bird-Counting.ipynb",
      "provenance": []
    },
    "kernelspec": {
      "display_name": "Python 3",
      "name": "python3"
    },
    "language_info": {
      "name": "python"
    }
  },
  "nbformat": 4,
  "nbformat_minor": 0
}
